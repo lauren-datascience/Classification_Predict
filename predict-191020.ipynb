{
 "cells": [
  {
   "cell_type": "markdown",
   "metadata": {
    "papermill": {
     "duration": 0.021065,
     "end_time": "2020-10-19T18:32:56.905505",
     "exception": false,
     "start_time": "2020-10-19T18:32:56.884440",
     "status": "completed"
    },
    "tags": []
   },
   "source": [
    "# Import the necessary libraries"
   ]
  },
  {
   "cell_type": "code",
   "execution_count": 1,
   "metadata": {
    "_cell_guid": "b1076dfc-b9ad-4769-8c92-a6c4dae69d19",
    "_uuid": "8f2839f25d086af736a60e9eeb907d3b93b6e0e5",
    "execution": {
     "iopub.execute_input": "2020-10-19T18:32:56.963264Z",
     "iopub.status.busy": "2020-10-19T18:32:56.962483Z",
     "iopub.status.idle": "2020-10-19T18:32:59.034154Z",
     "shell.execute_reply": "2020-10-19T18:32:59.033288Z"
    },
    "papermill": {
     "duration": 2.108877,
     "end_time": "2020-10-19T18:32:59.034308",
     "exception": false,
     "start_time": "2020-10-19T18:32:56.925431",
     "status": "completed"
    },
    "tags": []
   },
   "outputs": [],
   "source": [
    "import pandas as pd\n",
    "import numpy as np\n",
    "import nltk\n",
    "import string\n",
    "import re\n",
    "from sklearn.feature_extraction.text import TfidfVectorizer\n",
    "from sklearn.linear_model import LogisticRegression\n",
    "from sklearn.naive_bayes import MultinomialNB\n",
    "from sklearn.ensemble import RandomForestClassifier, AdaBoostClassifier\n",
    "from sklearn.svm import LinearSVC\n",
    "from sklearn.model_selection import train_test_split\n",
    "from sklearn.naive_bayes import MultinomialNB\n",
    "from nltk.stem import WordNetLemmatizer\n",
    "from nltk.corpus import stopwords\n",
    "from nltk.tokenize import word_tokenize\n",
    "\n",
    "from sklearn.metrics import f1_score\n",
    "\n",
    "from sklearn.utils import resample\n",
    "\n",
    "import seaborn as sns\n",
    "import matplotlib.pyplot as plt\n",
    "%matplotlib inline\n",
    "\n",
    "from sklearn.pipeline import Pipeline\n",
    "\n",
    "# Model Evaulation and Scoring\n",
    "from sklearn import metrics\n",
    "from sklearn.metrics import classification_report, confusion_matrix, f1_score, precision_score, recall_score"
   ]
  },
  {
   "cell_type": "markdown",
   "metadata": {
    "papermill": {
     "duration": 0.019839,
     "end_time": "2020-10-19T18:32:59.076990",
     "exception": false,
     "start_time": "2020-10-19T18:32:59.057151",
     "status": "completed"
    },
    "tags": []
   },
   "source": [
    "# Load in your data from kaggle."
   ]
  },
  {
   "cell_type": "code",
   "execution_count": 2,
   "metadata": {
    "_cell_guid": "79c7e3d0-c299-4dcb-8224-4455121ee9b0",
    "_uuid": "d629ff2d2480ee46fbb7e2d37f6b5fab8052498a",
    "execution": {
     "iopub.execute_input": "2020-10-19T18:32:59.134339Z",
     "iopub.status.busy": "2020-10-19T18:32:59.133503Z",
     "iopub.status.idle": "2020-10-19T18:32:59.238742Z",
     "shell.execute_reply": "2020-10-19T18:32:59.237772Z"
    },
    "papermill": {
     "duration": 0.141815,
     "end_time": "2020-10-19T18:32:59.238896",
     "exception": false,
     "start_time": "2020-10-19T18:32:59.097081",
     "status": "completed"
    },
    "tags": []
   },
   "outputs": [],
   "source": [
    "train = pd.read_csv('../input/climatechangeedsa202021/train.csv')\n",
    "test = pd.read_csv('../input/climatechangeedsa202021/test.csv')\n"
   ]
  },
  {
   "cell_type": "markdown",
   "metadata": {
    "papermill": {
     "duration": 0.020384,
     "end_time": "2020-10-19T18:32:59.279778",
     "exception": false,
     "start_time": "2020-10-19T18:32:59.259394",
     "status": "completed"
    },
    "tags": []
   },
   "source": [
    "Label sentiments\n",
    "* Pro = 1\n",
    "* Neutral = 0\n",
    "* Anti = -1\n",
    "* News = 2"
   ]
  },
  {
   "cell_type": "markdown",
   "metadata": {
    "papermill": {
     "duration": 0.020066,
     "end_time": "2020-10-19T18:32:59.320444",
     "exception": false,
     "start_time": "2020-10-19T18:32:59.300378",
     "status": "completed"
    },
    "tags": []
   },
   "source": [
    "Variable definitions\n",
    "\n",
    "* sentiment = sentiment of tweet\n",
    "* message = tweet body\n",
    "* tweetid = twitter unique id"
   ]
  },
  {
   "cell_type": "code",
   "execution_count": 3,
   "metadata": {
    "execution": {
     "iopub.execute_input": "2020-10-19T18:32:59.378437Z",
     "iopub.status.busy": "2020-10-19T18:32:59.377388Z",
     "iopub.status.idle": "2020-10-19T18:32:59.382664Z",
     "shell.execute_reply": "2020-10-19T18:32:59.382004Z"
    },
    "papermill": {
     "duration": 0.041454,
     "end_time": "2020-10-19T18:32:59.382789",
     "exception": false,
     "start_time": "2020-10-19T18:32:59.341335",
     "status": "completed"
    },
    "tags": []
   },
   "outputs": [
    {
     "data": {
      "text/plain": [
       " 1    8530\n",
       " 2    3640\n",
       " 0    2353\n",
       "-1    1296\n",
       "Name: sentiment, dtype: int64"
      ]
     },
     "execution_count": 3,
     "metadata": {},
     "output_type": "execute_result"
    }
   ],
   "source": [
    "train.sentiment.value_counts()"
   ]
  },
  {
   "cell_type": "code",
   "execution_count": 4,
   "metadata": {
    "execution": {
     "iopub.execute_input": "2020-10-19T18:32:59.431298Z",
     "iopub.status.busy": "2020-10-19T18:32:59.430207Z",
     "iopub.status.idle": "2020-10-19T18:32:59.648691Z",
     "shell.execute_reply": "2020-10-19T18:32:59.647975Z"
    },
    "papermill": {
     "duration": 0.245086,
     "end_time": "2020-10-19T18:32:59.648818",
     "exception": false,
     "start_time": "2020-10-19T18:32:59.403732",
     "status": "completed"
    },
    "tags": []
   },
   "outputs": [
    {
     "data": {
      "image/png": "[encoded data removed]",
      "text/plain": [
       "<Figure size 432x288 with 1 Axes>"
      ]
     },
     "metadata": {
      "needs_background": "light"
     },
     "output_type": "display_data"
    }
   ],
   "source": [
    "#display value counts in a bar chart\n",
    "train['sentiment'].value_counts().plot(kind = 'bar')\n",
    "plt.show()"
   ]
  },
  {
   "cell_type": "code",
   "execution_count": 5,
   "metadata": {
    "execution": {
     "iopub.execute_input": "2020-10-19T18:32:59.702389Z",
     "iopub.status.busy": "2020-10-19T18:32:59.701274Z",
     "iopub.status.idle": "2020-10-19T18:32:59.709179Z",
     "shell.execute_reply": "2020-10-19T18:32:59.708379Z"
    },
    "papermill": {
     "duration": 0.038147,
     "end_time": "2020-10-19T18:32:59.709327",
     "exception": false,
     "start_time": "2020-10-19T18:32:59.671180",
     "status": "completed"
    },
    "tags": []
   },
   "outputs": [
    {
     "name": "stdout",
     "output_type": "stream",
     "text": [
      "(15819, 3)\n",
      "(10546, 2)\n"
     ]
    }
   ],
   "source": [
    "print(train.shape) \n",
    "print(test.shape)"
   ]
  },
  {
   "cell_type": "code",
   "execution_count": 6,
   "metadata": {
    "execution": {
     "iopub.execute_input": "2020-10-19T18:32:59.782942Z",
     "iopub.status.busy": "2020-10-19T18:32:59.781742Z",
     "iopub.status.idle": "2020-10-19T18:32:59.804314Z",
     "shell.execute_reply": "2020-10-19T18:32:59.803309Z"
    },
    "papermill": {
     "duration": 0.065771,
     "end_time": "2020-10-19T18:32:59.804522",
     "exception": false,
     "start_time": "2020-10-19T18:32:59.738751",
     "status": "completed"
    },
    "tags": []
   },
   "outputs": [
    {
     "data": {
      "text/html": [
       "<div>\n",
       "<style scoped>\n",
       "    .dataframe tbody tr th:only-of-type {\n",
       "        vertical-align: middle;\n",
       "    }\n",
       "\n",
       "    .dataframe tbody tr th {\n",
       "        vertical-align: top;\n",
       "    }\n",
       "\n",
       "    .dataframe thead th {\n",
       "        text-align: right;\n",
       "    }\n",
       "</style>\n",
       "<table border=\"1\" class=\"dataframe\">\n",
       "  <thead>\n",
       "    <tr style=\"text-align: right;\">\n",
       "      <th></th>\n",
       "      <th>sentiment</th>\n",
       "      <th>message</th>\n",
       "      <th>tweetid</th>\n",
       "    </tr>\n",
       "  </thead>\n",
       "  <tbody>\n",
       "    <tr>\n",
       "      <th>0</th>\n",
       "      <td>1</td>\n",
       "      <td>PolySciMajor EPA chief doesn't think carbon di...</td>\n",
       "      <td>625221</td>\n",
       "    </tr>\n",
       "    <tr>\n",
       "      <th>1</th>\n",
       "      <td>1</td>\n",
       "      <td>It's not like we lack evidence of anthropogeni...</td>\n",
       "      <td>126103</td>\n",
       "    </tr>\n",
       "    <tr>\n",
       "      <th>2</th>\n",
       "      <td>2</td>\n",
       "      <td>RT @RawStory: Researchers say we have three ye...</td>\n",
       "      <td>698562</td>\n",
       "    </tr>\n",
       "    <tr>\n",
       "      <th>3</th>\n",
       "      <td>1</td>\n",
       "      <td>#TodayinMaker# WIRED : 2016 was a pivotal year...</td>\n",
       "      <td>573736</td>\n",
       "    </tr>\n",
       "    <tr>\n",
       "      <th>4</th>\n",
       "      <td>1</td>\n",
       "      <td>RT @SoyNovioDeTodas: It's 2016, and a racist, ...</td>\n",
       "      <td>466954</td>\n",
       "    </tr>\n",
       "  </tbody>\n",
       "</table>\n",
       "</div>"
      ],
      "text/plain": [
       "   sentiment                                            message  tweetid\n",
       "0          1  PolySciMajor EPA chief doesn't think carbon di...   625221\n",
       "1          1  It's not like we lack evidence of anthropogeni...   126103\n",
       "2          2  RT @RawStory: Researchers say we have three ye...   698562\n",
       "3          1  #TodayinMaker# WIRED : 2016 was a pivotal year...   573736\n",
       "4          1  RT @SoyNovioDeTodas: It's 2016, and a racist, ...   466954"
      ]
     },
     "metadata": {},
     "output_type": "display_data"
    },
    {
     "data": {
      "text/html": [
       "<div>\n",
       "<style scoped>\n",
       "    .dataframe tbody tr th:only-of-type {\n",
       "        vertical-align: middle;\n",
       "    }\n",
       "\n",
       "    .dataframe tbody tr th {\n",
       "        vertical-align: top;\n",
       "    }\n",
       "\n",
       "    .dataframe thead th {\n",
       "        text-align: right;\n",
       "    }\n",
       "</style>\n",
       "<table border=\"1\" class=\"dataframe\">\n",
       "  <thead>\n",
       "    <tr style=\"text-align: right;\">\n",
       "      <th></th>\n",
       "      <th>message</th>\n",
       "      <th>tweetid</th>\n",
       "    </tr>\n",
       "  </thead>\n",
       "  <tbody>\n",
       "    <tr>\n",
       "      <th>0</th>\n",
       "      <td>Europe will now be looking to China to make su...</td>\n",
       "      <td>169760</td>\n",
       "    </tr>\n",
       "    <tr>\n",
       "      <th>1</th>\n",
       "      <td>Combine this with the polling of staffers re c...</td>\n",
       "      <td>35326</td>\n",
       "    </tr>\n",
       "    <tr>\n",
       "      <th>2</th>\n",
       "      <td>The scary, unimpeachable evidence that climate...</td>\n",
       "      <td>224985</td>\n",
       "    </tr>\n",
       "    <tr>\n",
       "      <th>3</th>\n",
       "      <td>@Karoli @morgfair @OsborneInk @dailykos \\nPuti...</td>\n",
       "      <td>476263</td>\n",
       "    </tr>\n",
       "    <tr>\n",
       "      <th>4</th>\n",
       "      <td>RT @FakeWillMoore: 'Female orgasms cause globa...</td>\n",
       "      <td>872928</td>\n",
       "    </tr>\n",
       "  </tbody>\n",
       "</table>\n",
       "</div>"
      ],
      "text/plain": [
       "                                             message  tweetid\n",
       "0  Europe will now be looking to China to make su...   169760\n",
       "1  Combine this with the polling of staffers re c...    35326\n",
       "2  The scary, unimpeachable evidence that climate...   224985\n",
       "3  @Karoli @morgfair @OsborneInk @dailykos \\nPuti...   476263\n",
       "4  RT @FakeWillMoore: 'Female orgasms cause globa...   872928"
      ]
     },
     "metadata": {},
     "output_type": "display_data"
    }
   ],
   "source": [
    "display(train.head())\n",
    "display(test.head())"
   ]
  },
  {
   "cell_type": "markdown",
   "metadata": {
    "papermill": {
     "duration": 0.027718,
     "end_time": "2020-10-19T18:32:59.862167",
     "exception": false,
     "start_time": "2020-10-19T18:32:59.834449",
     "status": "completed"
    },
    "tags": []
   },
   "source": [
    "# Text Cleaning"
   ]
  },
  {
   "cell_type": "code",
   "execution_count": 7,
   "metadata": {
    "execution": {
     "iopub.execute_input": "2020-10-19T18:32:59.938944Z",
     "iopub.status.busy": "2020-10-19T18:32:59.933839Z",
     "iopub.status.idle": "2020-10-19T18:33:00.362955Z",
     "shell.execute_reply": "2020-10-19T18:33:00.362151Z"
    },
    "papermill": {
     "duration": 0.475201,
     "end_time": "2020-10-19T18:33:00.363084",
     "exception": false,
     "start_time": "2020-10-19T18:32:59.887883",
     "status": "completed"
    },
    "tags": []
   },
   "outputs": [
    {
     "name": "stdout",
     "output_type": "stream",
     "text": [
      "!\"#$%&'()*+,-./:;<=>?@[\\]^_`{|}~\n"
     ]
    }
   ],
   "source": [
    "#removing the web-urls\n",
    "pattern_url = r'http[s]?://(?:[A-Za-z]|[0-9]|[$-_@.&+]|[!*\\(\\),]|(?:%[0-9A-Fa-f][0-9A-Fa-f]))+'\n",
    "subs_url = r'url-web'\n",
    "train['message'] = train['message'].replace(to_replace = pattern_url, value = subs_url, regex = True)\n",
    "\n",
    "#remove punctuation and change to lower case\n",
    "train['message'] = train['message'].str.lower()\n",
    "\n",
    "print(string.punctuation)\n",
    "\n",
    "def remove_punctuation(message):\n",
    "    return ''.join([l for l in message if l not in string.punctuation])\n",
    "\n",
    "train['message'] = train['message'].apply(remove_punctuation)"
   ]
  },
  {
   "cell_type": "code",
   "execution_count": 8,
   "metadata": {
    "execution": {
     "iopub.execute_input": "2020-10-19T18:33:00.422388Z",
     "iopub.status.busy": "2020-10-19T18:33:00.421274Z",
     "iopub.status.idle": "2020-10-19T18:33:00.424846Z",
     "shell.execute_reply": "2020-10-19T18:33:00.424090Z"
    },
    "papermill": {
     "duration": 0.037286,
     "end_time": "2020-10-19T18:33:00.424972",
     "exception": false,
     "start_time": "2020-10-19T18:33:00.387686",
     "status": "completed"
    },
    "tags": []
   },
   "outputs": [],
   "source": [
    "def update(df):\n",
    "    df = train.copy()\n",
    "    sentiment = df['sentiment']\n",
    "    word_sentiment = []\n",
    "\n",
    "    for i in sentiment :\n",
    "        if i == 1 :\n",
    "            word_sentiment.append('Pro')\n",
    "        elif i == 0 :\n",
    "            word_sentiment.append('Neutral')\n",
    "        elif i == -1 :\n",
    "            word_sentiment.append('Anti')\n",
    "        else :\n",
    "            word_sentiment.append('News')\n",
    "\n",
    "    df['sentiment'] = word_sentiment\n",
    "    \n",
    "    return df"
   ]
  },
  {
   "cell_type": "code",
   "execution_count": 9,
   "metadata": {
    "execution": {
     "iopub.execute_input": "2020-10-19T18:33:00.486368Z",
     "iopub.status.busy": "2020-10-19T18:33:00.485526Z",
     "iopub.status.idle": "2020-10-19T18:33:00.499831Z",
     "shell.execute_reply": "2020-10-19T18:33:00.498967Z"
    },
    "papermill": {
     "duration": 0.05043,
     "end_time": "2020-10-19T18:33:00.499975",
     "exception": false,
     "start_time": "2020-10-19T18:33:00.449545",
     "status": "completed"
    },
    "tags": []
   },
   "outputs": [
    {
     "data": {
      "text/html": [
       "<div>\n",
       "<style scoped>\n",
       "    .dataframe tbody tr th:only-of-type {\n",
       "        vertical-align: middle;\n",
       "    }\n",
       "\n",
       "    .dataframe tbody tr th {\n",
       "        vertical-align: top;\n",
       "    }\n",
       "\n",
       "    .dataframe thead th {\n",
       "        text-align: right;\n",
       "    }\n",
       "</style>\n",
       "<table border=\"1\" class=\"dataframe\">\n",
       "  <thead>\n",
       "    <tr style=\"text-align: right;\">\n",
       "      <th></th>\n",
       "      <th>sentiment</th>\n",
       "      <th>message</th>\n",
       "      <th>tweetid</th>\n",
       "    </tr>\n",
       "  </thead>\n",
       "  <tbody>\n",
       "    <tr>\n",
       "      <th>0</th>\n",
       "      <td>Pro</td>\n",
       "      <td>polyscimajor epa chief doesnt think carbon dio...</td>\n",
       "      <td>625221</td>\n",
       "    </tr>\n",
       "    <tr>\n",
       "      <th>1</th>\n",
       "      <td>Pro</td>\n",
       "      <td>its not like we lack evidence of anthropogenic...</td>\n",
       "      <td>126103</td>\n",
       "    </tr>\n",
       "    <tr>\n",
       "      <th>2</th>\n",
       "      <td>News</td>\n",
       "      <td>rt rawstory researchers say we have three year...</td>\n",
       "      <td>698562</td>\n",
       "    </tr>\n",
       "    <tr>\n",
       "      <th>3</th>\n",
       "      <td>Pro</td>\n",
       "      <td>todayinmaker wired  2016 was a pivotal year in...</td>\n",
       "      <td>573736</td>\n",
       "    </tr>\n",
       "    <tr>\n",
       "      <th>4</th>\n",
       "      <td>Pro</td>\n",
       "      <td>rt soynoviodetodas its 2016 and a racist sexis...</td>\n",
       "      <td>466954</td>\n",
       "    </tr>\n",
       "  </tbody>\n",
       "</table>\n",
       "</div>"
      ],
      "text/plain": [
       "  sentiment                                            message  tweetid\n",
       "0       Pro  polyscimajor epa chief doesnt think carbon dio...   625221\n",
       "1       Pro  its not like we lack evidence of anthropogenic...   126103\n",
       "2      News  rt rawstory researchers say we have three year...   698562\n",
       "3       Pro  todayinmaker wired  2016 was a pivotal year in...   573736\n",
       "4       Pro  rt soynoviodetodas its 2016 and a racist sexis...   466954"
      ]
     },
     "execution_count": 9,
     "metadata": {},
     "output_type": "execute_result"
    }
   ],
   "source": [
    "df = update(train)\n",
    "df.head()"
   ]
  },
  {
   "cell_type": "markdown",
   "metadata": {
    "papermill": {
     "duration": 0.026045,
     "end_time": "2020-10-19T18:33:00.551443",
     "exception": false,
     "start_time": "2020-10-19T18:33:00.525398",
     "status": "completed"
    },
    "tags": []
   },
   "source": [
    "# Speech Tagging & Lemmatization"
   ]
  },
  {
   "cell_type": "markdown",
   "metadata": {
    "papermill": {
     "duration": 0.025344,
     "end_time": "2020-10-19T18:33:00.603315",
     "exception": false,
     "start_time": "2020-10-19T18:33:00.577971",
     "status": "completed"
    },
    "tags": []
   },
   "source": [
    "* Modifies original train dataframe\n",
    "* Extra Column for length of each Tweet\n",
    "* Tweets tokenized, tagged and Lemmatized"
   ]
  },
  {
   "cell_type": "code",
   "execution_count": 10,
   "metadata": {
    "execution": {
     "iopub.execute_input": "2020-10-19T18:33:00.686024Z",
     "iopub.status.busy": "2020-10-19T18:33:00.683561Z",
     "iopub.status.idle": "2020-10-19T18:33:30.878569Z",
     "shell.execute_reply": "2020-10-19T18:33:30.877751Z"
    },
    "papermill": {
     "duration": 30.249785,
     "end_time": "2020-10-19T18:33:30.878705",
     "exception": false,
     "start_time": "2020-10-19T18:33:00.628920",
     "status": "completed"
    },
    "tags": []
   },
   "outputs": [],
   "source": [
    "def lem(df):\n",
    "    df['length'] = df['message'].str.len()\n",
    "    df['tokenized'] = df['message'].apply(word_tokenize)\n",
    "    df['pos_tags'] = df['tokenized'].apply(nltk.tag.pos_tag)\n",
    "\n",
    "def get_wordnet_position(tag):\n",
    "    if tag.startswith('J'):\n",
    "        return wordnet.ADJ\n",
    "\n",
    "    elif tag.startswith('V'):\n",
    "        return wordnet.VERB\n",
    "\n",
    "    elif tag.startswith('N'):\n",
    "          return wordnet.NOUN\n",
    "\n",
    "    elif tag.startswith('R'):\n",
    "          return wordnet.ADV\n",
    "        \n",
    "    else:\n",
    "        return wordnet.NOUN\n",
    "        \n",
    "    wl = WordNetLemmatizer()\n",
    "    df['pos_tags'] = df['pos_tags'].apply(lambda x: [(word, get_wordnet_pos(pos_tag)) for (word, pos_tag) in x])\n",
    "    df['lemmatized'] = df['pos_tags'].apply(lambda x: [wnl.lemmatize(word, tag) for word, tag in x])\n",
    "    df['lemmatized'] = [' '.join(map(str, l)) for l in df['lemmatized']]  \n",
    "    return df\n",
    "\n",
    "df = lem(df)"
   ]
  },
  {
   "cell_type": "markdown",
   "metadata": {
    "papermill": {
     "duration": 0.025332,
     "end_time": "2020-10-19T18:33:30.929836",
     "exception": false,
     "start_time": "2020-10-19T18:33:30.904504",
     "status": "completed"
    },
    "tags": []
   },
   "source": [
    "# Splitting the training data into a training and validation set"
   ]
  },
  {
   "cell_type": "code",
   "execution_count": 11,
   "metadata": {
    "execution": {
     "iopub.execute_input": "2020-10-19T18:33:30.989557Z",
     "iopub.status.busy": "2020-10-19T18:33:30.988550Z",
     "iopub.status.idle": "2020-10-19T18:33:30.991123Z",
     "shell.execute_reply": "2020-10-19T18:33:30.991711Z"
    },
    "papermill": {
     "duration": 0.035693,
     "end_time": "2020-10-19T18:33:30.991872",
     "exception": false,
     "start_time": "2020-10-19T18:33:30.956179",
     "status": "completed"
    },
    "tags": []
   },
   "outputs": [],
   "source": [
    "y = train['sentiment']\n",
    "X = train['message']"
   ]
  },
  {
   "cell_type": "code",
   "execution_count": 12,
   "metadata": {
    "execution": {
     "iopub.execute_input": "2020-10-19T18:33:31.053878Z",
     "iopub.status.busy": "2020-10-19T18:33:31.051530Z",
     "iopub.status.idle": "2020-10-19T18:33:31.057997Z",
     "shell.execute_reply": "2020-10-19T18:33:31.057225Z"
    },
    "papermill": {
     "duration": 0.039399,
     "end_time": "2020-10-19T18:33:31.058141",
     "exception": false,
     "start_time": "2020-10-19T18:33:31.018742",
     "status": "completed"
    },
    "tags": []
   },
   "outputs": [],
   "source": [
    "X_train, X_valid, y_train, y_valid = train_test_split(X, y, test_size=0.30, random_state=10)"
   ]
  },
  {
   "cell_type": "markdown",
   "metadata": {
    "papermill": {
     "duration": 0.025916,
     "end_time": "2020-10-19T18:33:31.110512",
     "exception": false,
     "start_time": "2020-10-19T18:33:31.084596",
     "status": "completed"
    },
    "tags": []
   },
   "source": [
    "# Training the model and evaluating using the validation set"
   ]
  },
  {
   "cell_type": "code",
   "execution_count": 13,
   "metadata": {
    "execution": {
     "iopub.execute_input": "2020-10-19T18:33:31.170149Z",
     "iopub.status.busy": "2020-10-19T18:33:31.169354Z",
     "iopub.status.idle": "2020-10-19T18:33:31.172389Z",
     "shell.execute_reply": "2020-10-19T18:33:31.171657Z"
    },
    "papermill": {
     "duration": 0.035776,
     "end_time": "2020-10-19T18:33:31.172527",
     "exception": false,
     "start_time": "2020-10-19T18:33:31.136751",
     "status": "completed"
    },
    "tags": []
   },
   "outputs": [],
   "source": [
    "lsvc = Pipeline([('tfidf', TfidfVectorizer()),\n",
    "                 ('clf', LinearSVC(class_weight='balanced'))])"
   ]
  },
  {
   "cell_type": "code",
   "execution_count": 14,
   "metadata": {
    "execution": {
     "iopub.execute_input": "2020-10-19T18:33:31.254547Z",
     "iopub.status.busy": "2020-10-19T18:33:31.233654Z",
     "iopub.status.idle": "2020-10-19T18:33:32.136132Z",
     "shell.execute_reply": "2020-10-19T18:33:32.135463Z"
    },
    "papermill": {
     "duration": 0.937759,
     "end_time": "2020-10-19T18:33:32.136257",
     "exception": false,
     "start_time": "2020-10-19T18:33:31.198498",
     "status": "completed"
    },
    "tags": []
   },
   "outputs": [],
   "source": [
    "lsvc.fit(X_train, y_train)\n",
    "y_pred_lsvc = lsvc.predict(X_valid)"
   ]
  },
  {
   "cell_type": "markdown",
   "metadata": {
    "papermill": {
     "duration": 0.02594,
     "end_time": "2020-10-19T18:33:32.188615",
     "exception": false,
     "start_time": "2020-10-19T18:33:32.162675",
     "status": "completed"
    },
    "tags": []
   },
   "source": [
    "# Checking the performance of our model on the validation set"
   ]
  },
  {
   "cell_type": "code",
   "execution_count": 15,
   "metadata": {
    "execution": {
     "iopub.execute_input": "2020-10-19T18:33:32.247460Z",
     "iopub.status.busy": "2020-10-19T18:33:32.246640Z",
     "iopub.status.idle": "2020-10-19T18:33:32.263747Z",
     "shell.execute_reply": "2020-10-19T18:33:32.262530Z"
    },
    "papermill": {
     "duration": 0.048952,
     "end_time": "2020-10-19T18:33:32.263958",
     "exception": false,
     "start_time": "2020-10-19T18:33:32.215006",
     "status": "completed"
    },
    "tags": []
   },
   "outputs": [
    {
     "name": "stdout",
     "output_type": "stream",
     "text": [
      "              precision    recall  f1-score   support\n",
      "\n",
      "          -1       0.61      0.49      0.55       397\n",
      "           0       0.57      0.48      0.52       732\n",
      "           1       0.80      0.81      0.80      2501\n",
      "           2       0.74      0.82      0.78      1116\n",
      "\n",
      "    accuracy                           0.74      4746\n",
      "   macro avg       0.68      0.65      0.66      4746\n",
      "weighted avg       0.73      0.74      0.73      4746\n",
      "\n"
     ]
    }
   ],
   "source": [
    "print(metrics.classification_report(y_valid, y_pred_lsvc))"
   ]
  },
  {
   "cell_type": "code",
   "execution_count": 16,
   "metadata": {
    "execution": {
     "iopub.execute_input": "2020-10-19T18:33:32.374231Z",
     "iopub.status.busy": "2020-10-19T18:33:32.337668Z",
     "iopub.status.idle": "2020-10-19T18:33:33.794592Z",
     "shell.execute_reply": "2020-10-19T18:33:33.793552Z"
    },
    "papermill": {
     "duration": 1.503229,
     "end_time": "2020-10-19T18:33:33.794721",
     "exception": false,
     "start_time": "2020-10-19T18:33:32.291492",
     "status": "completed"
    },
    "tags": []
   },
   "outputs": [
    {
     "name": "stdout",
     "output_type": "stream",
     "text": [
      "F1 score improved by 1.0 %\n"
     ]
    }
   ],
   "source": [
    "lsvc_op = Pipeline([('tfidf', TfidfVectorizer(max_df=0.8,\n",
    "                                                    min_df=2,\n",
    "                                                    ngram_range=(1,2))),\n",
    "                  ('clf', LinearSVC(C=0.3,\n",
    "                                    class_weight='balanced',\n",
    "                                    max_iter=3000))])\n",
    "\n",
    "# Fit and predict\n",
    "lsvc_op.fit(X_train, y_train)\n",
    "y_pred = lsvc_op.predict(X_valid)\n",
    "\n",
    "print('F1 score improved by',\n",
    "      round(100*((metrics.accuracy_score(y_pred, y_valid) - metrics.accuracy_score(y_pred_lsvc, y_valid)) /metrics.accuracy_score(y_pred_lsvc, y_valid)),0), \n",
    "      '%')"
   ]
  },
  {
   "cell_type": "markdown",
   "metadata": {
    "papermill": {
     "duration": 0.027286,
     "end_time": "2020-10-19T18:33:33.849670",
     "exception": false,
     "start_time": "2020-10-19T18:33:33.822384",
     "status": "completed"
    },
    "tags": []
   },
   "source": [
    "# Creating an output csv for submission"
   ]
  },
  {
   "cell_type": "code",
   "execution_count": 17,
   "metadata": {
    "execution": {
     "iopub.execute_input": "2020-10-19T18:33:33.947340Z",
     "iopub.status.busy": "2020-10-19T18:33:33.926550Z",
     "iopub.status.idle": "2020-10-19T18:33:34.899019Z",
     "shell.execute_reply": "2020-10-19T18:33:34.898335Z"
    },
    "papermill": {
     "duration": 1.021487,
     "end_time": "2020-10-19T18:33:34.899167",
     "exception": false,
     "start_time": "2020-10-19T18:33:33.877680",
     "status": "completed"
    },
    "tags": []
   },
   "outputs": [],
   "source": [
    "y_test = lsvc_op.predict(test['message'])\n",
    "output = pd.DataFrame({'tweetid': test.tweetid,\n",
    "                       'sentiment': y_test})\n",
    "output.to_csv('testsubmission.csv', index=False)"
   ]
  }
 ],
 "metadata": {
  "kernelspec": {
   "display_name": "Python 3",
   "language": "python",
   "name": "python3"
  },
  "language_info": {
   "codemirror_mode": {
    "name": "ipython",
    "version": 3
   },
   "file_extension": ".py",
   "mimetype": "text/x-python",
   "name": "python",
   "nbconvert_exporter": "python",
   "pygments_lexer": "ipython3",
   "version": "3.7.6"
  },
  "papermill": {
   "duration": 43.999845,
   "end_time": "2020-10-19T18:33:35.957512",
   "environment_variables": {},
   "exception": null,
   "input_path": "__notebook__.ipynb",
   "output_path": "__notebook__.ipynb",
   "parameters": {},
   "start_time": "2020-10-19T18:32:51.957667",
   "version": "2.1.0"
  }
 },
 "nbformat": 4,
 "nbformat_minor": 4
}
